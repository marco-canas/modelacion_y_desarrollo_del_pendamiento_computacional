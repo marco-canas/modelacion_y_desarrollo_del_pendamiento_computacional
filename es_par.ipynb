{
 "cells": [
  {
   "cell_type": "markdown",
   "id": "fe584d62",
   "metadata": {},
   "source": [
    "# El problema de determinar si un n´mero es par"
   ]
  },
  {
   "cell_type": "code",
   "execution_count": 5,
   "id": "00a511ee",
   "metadata": {},
   "outputs": [],
   "source": [
    "def es_par(num):\n",
    "    if num == 1:\n",
    "        return False \n",
    "    elif num == 2:\n",
    "        return True \n",
    "    else:\n",
    "        return es_par(num - 2)\n",
    "                \n",
    "    "
   ]
  },
  {
   "cell_type": "code",
   "execution_count": 8,
   "id": "a659f67d",
   "metadata": {},
   "outputs": [
    {
     "data": {
      "text/plain": [
       "True"
      ]
     },
     "execution_count": 8,
     "metadata": {},
     "output_type": "execute_result"
    }
   ],
   "source": [
    "es_par(10)    "
   ]
  },
  {
   "cell_type": "code",
   "execution_count": null,
   "id": "ad1854e3",
   "metadata": {},
   "outputs": [],
   "source": []
  }
 ],
 "metadata": {
  "kernelspec": {
   "display_name": "Python 3",
   "language": "python",
   "name": "python3"
  },
  "language_info": {
   "codemirror_mode": {
    "name": "ipython",
    "version": 3
   },
   "file_extension": ".py",
   "mimetype": "text/x-python",
   "name": "python",
   "nbconvert_exporter": "python",
   "pygments_lexer": "ipython3",
   "version": "3.8.8"
  },
  "latex_envs": {
   "LaTeX_envs_menu_present": true,
   "autoclose": false,
   "autocomplete": false,
   "bibliofile": "biblio.bib",
   "cite_by": "apalike",
   "current_citInitial": 1,
   "eqLabelWithNumbers": true,
   "eqNumInitial": 1,
   "hotkeys": {
    "equation": "Ctrl-E",
    "itemize": "Ctrl-I"
   },
   "labels_anchors": false,
   "latex_user_defs": false,
   "report_style_numbering": false,
   "user_envs_cfg": false
  }
 },
 "nbformat": 4,
 "nbformat_minor": 5
}
