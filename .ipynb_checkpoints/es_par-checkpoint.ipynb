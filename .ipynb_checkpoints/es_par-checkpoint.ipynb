{
 "cells": [
  {
   "cell_type": "markdown",
   "id": "a6bdc9bf",
   "metadata": {},
   "source": [
    "# El problema de determinar si un n´mero es par"
   ]
  },
  {
   "cell_type": "code",
   "execution_count": 1,
   "id": "71060b3c",
   "metadata": {},
   "outputs": [],
   "source": [
    "def es_par(num):\n",
    "    if num == 1:\n",
    "        return False \n",
    "    "
   ]
  },
  {
   "cell_type": "code",
   "execution_count": 3,
   "id": "9b1f7be7",
   "metadata": {},
   "outputs": [],
   "source": [
    "es_par(2)  "
   ]
  },
  {
   "cell_type": "code",
   "execution_count": null,
   "id": "4a5febfe",
   "metadata": {},
   "outputs": [],
   "source": []
  }
 ],
 "metadata": {
  "kernelspec": {
   "display_name": "Python 3",
   "language": "python",
   "name": "python3"
  },
  "language_info": {
   "codemirror_mode": {
    "name": "ipython",
    "version": 3
   },
   "file_extension": ".py",
   "mimetype": "text/x-python",
   "name": "python",
   "nbconvert_exporter": "python",
   "pygments_lexer": "ipython3",
   "version": "3.8.8"
  },
  "latex_envs": {
   "LaTeX_envs_menu_present": true,
   "autoclose": false,
   "autocomplete": false,
   "bibliofile": "biblio.bib",
   "cite_by": "apalike",
   "current_citInitial": 1,
   "eqLabelWithNumbers": true,
   "eqNumInitial": 1,
   "hotkeys": {
    "equation": "Ctrl-E",
    "itemize": "Ctrl-I"
   },
   "labels_anchors": false,
   "latex_user_defs": false,
   "report_style_numbering": false,
   "user_envs_cfg": false
  }
 },
 "nbformat": 4,
 "nbformat_minor": 5
}
